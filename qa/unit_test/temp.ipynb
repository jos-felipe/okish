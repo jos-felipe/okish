{
 "cells": [
  {
   "cell_type": "code",
   "execution_count": 12,
   "metadata": {},
   "outputs": [],
   "source": [
    "import subprocess"
   ]
  },
  {
   "cell_type": "code",
   "execution_count": 13,
   "metadata": {},
   "outputs": [],
   "source": [
    "valgrind = \"valgrind -q\"\n",
    "\n",
    "name = \"redirect\"\n",
    "\n",
    "## input_data = \"\\'echo juba > out\\'\""
   ]
  },
  {
   "cell_type": "code",
   "execution_count": 14,
   "metadata": {},
   "outputs": [],
   "source": [
    "# Input Samples:\n",
    "input_data_list = [\"\\'echo melvin > out\\'\"]\n",
    "output_data_list = [f'0|3']\n",
    "\n",
    "input_data_list.append(\"\\'echo melvin > out1 > out2\\'\")\n",
    "output_data_list.append(f'0-4\\n')"
   ]
  },
  {
   "cell_type": "code",
   "execution_count": 18,
   "metadata": {},
   "outputs": [
    {
     "data": {
      "text/plain": [
       "CompletedProcess(args='make -C redirect', returncode=0, stdout=\"make: Entering directory '/nfs/homes/gfantoni/programing/42/minishell_folder/minishell/qa/unit_test/redirect'\\nmake -C sources/functions/\\nmkdir -p objects\\ncc -Wall -Wextra -Werror -o objects/ft_atoi.o -c sources/ft_atoi.c -I includes/\\nmkdir -p objects\\ncc -Wall -Wextra -Werror -o objects/ft_bzero.o -c sources/ft_bzero.c -I includes/\\nmkdir -p objects\\ncc -Wall -Wextra -Werror -o objects/ft_calloc.o -c sources/ft_calloc.c -I includes/\\nmkdir -p objects\\ncc -Wall -Wextra -Werror -o objects/ft_isalnum.o -c sources/ft_isalnum.c -I includes/\\nmkdir -p objects\\ncc -Wall -Wextra -Werror -o objects/ft_isalpha.o -c sources/ft_isalpha.c -I includes/\\nmkdir -p objects\\ncc -Wall -Wextra -Werror -o objects/ft_isascii.o -c sources/ft_isascii.c -I includes/\\nmkdir -p objects\\ncc -Wall -Wextra -Werror -o objects/ft_isdigit.o -c sources/ft_isdigit.c -I includes/\\nmkdir -p objects\\ncc -Wall -Wextra -Werror -o objects/ft_isprint.o -c sources/ft_isprint.c -I includes/\\nmkdir -p objects\\ncc -Wall -Wextra -Werror -o objects/ft_itoa.o -c sources/ft_itoa.c -I includes/\\nmkdir -p objects\\ncc -Wall -Wextra -Werror -o objects/ft_memchr.o -c sources/ft_memchr.c -I includes/\\nmkdir -p objects\\ncc -Wall -Wextra -Werror -o objects/ft_memcmp.o -c sources/ft_memcmp.c -I includes/\\nmkdir -p objects\\ncc -Wall -Wextra -Werror -o objects/ft_memcpy.o -c sources/ft_memcpy.c -I includes/\\nmkdir -p objects\\ncc -Wall -Wextra -Werror -o objects/ft_memmove.o -c sources/ft_memmove.c -I includes/\\nmkdir -p objects\\ncc -Wall -Wextra -Werror -o objects/ft_memset.o -c sources/ft_memset.c -I includes/\\nmkdir -p objects\\ncc -Wall -Wextra -Werror -o objects/ft_putchar_fd.o -c sources/ft_putchar_fd.c -I includes/\\nmkdir -p objects\\ncc -Wall -Wextra -Werror -o objects/ft_putendl_fd.o -c sources/ft_putendl_fd.c -I includes/\\nmkdir -p objects\\ncc -Wall -Wextra -Werror -o objects/ft_putnbr_fd.o -c sources/ft_putnbr_fd.c -I includes/\\nmkdir -p objects\\ncc -Wall -Wextra -Werror -o objects/ft_putstr_fd.o -c sources/ft_putstr_fd.c -I includes/\\nmkdir -p objects\\ncc -Wall -Wextra -Werror -o objects/ft_split.o -c sources/ft_split.c -I includes/\\nmkdir -p objects\\ncc -Wall -Wextra -Werror -o objects/ft_strchr.o -c sources/ft_strchr.c -I includes/\\nmkdir -p objects\\ncc -Wall -Wextra -Werror -o objects/ft_strdup.o -c sources/ft_strdup.c -I includes/\\nmkdir -p objects\\ncc -Wall -Wextra -Werror -o objects/ft_striteri.o -c sources/ft_striteri.c -I includes/\\nmkdir -p objects\\ncc -Wall -Wextra -Werror -o objects/ft_strjoin.o -c sources/ft_strjoin.c -I includes/\\nmkdir -p objects\\ncc -Wall -Wextra -Werror -o objects/ft_strlcat.o -c sources/ft_strlcat.c -I includes/\\nmkdir -p objects\\ncc -Wall -Wextra -Werror -o objects/ft_strlcpy.o -c sources/ft_strlcpy.c -I includes/\\nmkdir -p objects\\ncc -Wall -Wextra -Werror -o objects/ft_strlen.o -c sources/ft_strlen.c -I includes/\\nmkdir -p objects\\ncc -Wall -Wextra -Werror -o objects/ft_strmapi.o -c sources/ft_strmapi.c -I includes/\\nmkdir -p objects\\ncc -Wall -Wextra -Werror -o objects/ft_strncmp.o -c sources/ft_strncmp.c -I includes/\\nmkdir -p objects\\ncc -Wall -Wextra -Werror -o objects/ft_strnstr.o -c sources/ft_strnstr.c -I includes/\\nmkdir -p objects\\ncc -Wall -Wextra -Werror -o objects/ft_strrchr.o -c sources/ft_strrchr.c -I includes/\\nmkdir -p objects\\ncc -Wall -Wextra -Werror -o objects/ft_strtrim.o -c sources/ft_strtrim.c -I includes/\\nmkdir -p objects\\ncc -Wall -Wextra -Werror -o objects/ft_substr.o -c sources/ft_substr.c -I includes/\\nmkdir -p objects\\ncc -Wall -Wextra -Werror -o objects/ft_tolower.o -c sources/ft_tolower.c -I includes/\\nmkdir -p objects\\ncc -Wall -Wextra -Werror -o objects/ft_toupper.o -c sources/ft_toupper.c -I includes/\\nmkdir -p objects\\ncc -Wall -Wextra -Werror -o objects/ft_lstadd_back_bonus.o -c sources/ft_lstadd_back_bonus.c -I includes/\\nmkdir -p objects\\ncc -Wall -Wextra -Werror -o objects/ft_lstadd_front_bonus.o -c sources/ft_lstadd_front_bonus.c -I includes/\\nmkdir -p objects\\ncc -Wall -Wextra -Werror -o objects/ft_lstclear_bonus.o -c sources/ft_lstclear_bonus.c -I includes/\\nmkdir -p objects\\ncc -Wall -Wextra -Werror -o objects/ft_lstdelone_bonus.o -c sources/ft_lstdelone_bonus.c -I includes/\\nmkdir -p objects\\ncc -Wall -Wextra -Werror -o objects/ft_lstiter_bonus.o -c sources/ft_lstiter_bonus.c -I includes/\\nmkdir -p objects\\ncc -Wall -Wextra -Werror -o objects/ft_lstlast_bonus.o -c sources/ft_lstlast_bonus.c -I includes/\\nmkdir -p objects\\ncc -Wall -Wextra -Werror -o objects/ft_lstmap_bonus.o -c sources/ft_lstmap_bonus.c -I includes/\\nmkdir -p objects\\ncc -Wall -Wextra -Werror -o objects/ft_lstnew_bonus.o -c sources/ft_lstnew_bonus.c -I includes/\\nmkdir -p objects\\ncc -Wall -Wextra -Werror -o objects/ft_lstsize_bonus.o -c sources/ft_lstsize_bonus.c -I includes/\\nmkdir -p objects\\ncc -Wall -Wextra -Werror -o objects/ft_math_sqrt.o -c sources/ft_math_sqrt.c -I includes/\\nmkdir -p objects\\ncc -Wall -Wextra -Werror -o objects/ft_printf.o -c sources/ft_printf.c -I includes/\\nar -rcT functions.a objects/ft_atoi.o objects/ft_bzero.o objects/ft_calloc.o objects/ft_isalnum.o objects/ft_isalpha.o objects/ft_isascii.o objects/ft_isdigit.o objects/ft_isprint.o objects/ft_itoa.o objects/ft_memchr.o objects/ft_memcmp.o objects/ft_memcpy.o objects/ft_memmove.o objects/ft_memset.o objects/ft_putchar_fd.o objects/ft_putendl_fd.o objects/ft_putnbr_fd.o objects/ft_putstr_fd.o objects/ft_split.o objects/ft_strchr.o objects/ft_strdup.o objects/ft_striteri.o objects/ft_strjoin.o objects/ft_strlcat.o objects/ft_strlcpy.o objects/ft_strlen.o objects/ft_strmapi.o objects/ft_strncmp.o objects/ft_strnstr.o objects/ft_strrchr.o objects/ft_strtrim.o objects/ft_substr.o objects/ft_tolower.o objects/ft_toupper.o objects/ft_lstadd_back_bonus.o objects/ft_lstadd_front_bonus.o objects/ft_lstclear_bonus.o objects/ft_lstdelone_bonus.o objects/ft_lstiter_bonus.o objects/ft_lstlast_bonus.o objects/ft_lstmap_bonus.o objects/ft_lstnew_bonus.o objects/ft_lstsize_bonus.o objects/ft_math_sqrt.o objects/ft_printf.o\\nmake -C sources/get_next_line/\\nmkdir -p objects\\ncc -Wall -Wextra -Werror -D BUFFER_SIZE=10 -c sources/get_next_line.c -o objects/get_next_line.o\\nmkdir -p objects\\ncc -Wall -Wextra -Werror -D BUFFER_SIZE=10 -c sources/get_next_line_utils.c -o objects/get_next_line_utils.o\\nar -rcT get_next_line.a objects/get_next_line.o objects/get_next_line_utils.o\\nar -rcT libft.a sources/functions/functions.a sources/get_next_line/get_next_line.a\\nmkdir -p ./obj/\\n\\x1b[32;1m[Compiling]\\x1b[0m \\x1b[37;1;4m08_utils_1.c...\\x1b[0m\\ncc -g3 -c src/08_utils_1.c -o obj/08_utils_1.o -I ./include/\\n \\n\\x1b[32;1m[Compiling]\\x1b[0m \\x1b[37;1;4m08_redirect.c...\\x1b[0m\\ncc -g3 -c src/08_redirect.c -o obj/08_redirect.o -I ./include/\\n \\n\\x1b[32;1m[Compiling]\\x1b[0m \\x1b[37;1;4m05_utils_4.c...\\x1b[0m\\ncc -g3 -c src/05_utils_4.c -o obj/05_utils_4.o -I ./include/\\n \\n\\x1b[32;1m[Compiling]\\x1b[0m \\x1b[37;1;4m05_utils_1.c...\\x1b[0m\\ncc -g3 -c src/05_utils_1.c -o obj/05_utils_1.o -I ./include/\\n \\n\\x1b[32;1m[Compiling]\\x1b[0m \\x1b[37;1;4m05_tokenizer.c...\\x1b[0m\\ncc -g3 -c src/05_tokenizer.c -o obj/05_tokenizer.o -I ./include/\\n \\n\\x1b[32;1m[Compiling]\\x1b[0m \\x1b[37;1;4m07_expansion.c...\\x1b[0m\\ncc -g3 -c src/07_expansion.c -o obj/07_expansion.o -I ./include/\\n \\n\\x1b[32;1m[Compiling]\\x1b[0m \\x1b[37;1;4mft_trashman.c...\\x1b[0m\\ncc -g3 -c src/ft_trashman.c -o obj/ft_trashman.o -I ./include/\\n \\n\\x1b[32;1m[Compiling]\\x1b[0m \\x1b[37;1;4m06_parser.c...\\x1b[0m\\ncc -g3 -c src/06_parser.c -o obj/06_parser.o -I ./include/\\n \\n\\x1b[32;1m[Compiling]\\x1b[0m \\x1b[37;1;4mft_dictionary.c...\\x1b[0m\\ncc -g3 -c src/ft_dictionary.c -o obj/ft_dictionary.o -I ./include/\\n \\n\\x1b[32;1m[Compiling]\\x1b[0m \\x1b[37;1;4mmain.c...\\x1b[0m\\ncc -g3 -c src/main.c -o obj/main.o -I ./include/\\n \\n\\x1b[32;1m[Compiling]\\x1b[0m \\x1b[37;1;4m06_utils.c...\\x1b[0m\\ncc -g3 -c src/06_utils.c -o obj/06_utils.o -I ./include/\\n \\n\\x1b[32;1m[Compiling]\\x1b[0m \\x1b[37;1;4m07_utils_1.c...\\x1b[0m\\ncc -g3 -c src/07_utils_1.c -o obj/07_utils_1.o -I ./include/\\n \\n\\x1b[32;1m[Compiling]\\x1b[0m \\x1b[37;1;4m07_utils_3.c...\\x1b[0m\\ncc -g3 -c src/07_utils_3.c -o obj/07_utils_3.o -I ./include/\\n \\n\\x1b[32;1m[Compiling]\\x1b[0m \\x1b[37;1;4m05_utils_3.c...\\x1b[0m\\ncc -g3 -c src/05_utils_3.c -o obj/05_utils_3.o -I ./include/\\n \\n\\x1b[32;1m[Compiling]\\x1b[0m \\x1b[37;1;4mtrashman.c...\\x1b[0m\\ncc -g3 -c src/trashman.c -o obj/trashman.o -I ./include/\\n \\n\\x1b[32;1m[Compiling]\\x1b[0m \\x1b[37;1;4m07_utils_2.c...\\x1b[0m\\ncc -g3 -c src/07_utils_2.c -o obj/07_utils_2.o -I ./include/\\n \\n\\x1b[32;1m[Compiling]\\x1b[0m \\x1b[37;1;4m05_utils_2.c...\\x1b[0m\\ncc -g3 -c src/05_utils_2.c -o obj/05_utils_2.o -I ./include/\\n \\ncc -g3 -o redirect ./obj/08_utils_1.o ./obj/08_redirect.o ./obj/05_utils_4.o ./obj/05_utils_1.o ./obj/05_tokenizer.o ./obj/07_expansion.o ./obj/ft_trashman.o ./obj/06_parser.o ./obj/ft_dictionary.o ./obj/main.o ./obj/06_utils.o ./obj/07_utils_1.o ./obj/07_utils_3.o ./obj/05_utils_3.o ./obj/trashman.o ./obj/07_utils_2.o ./obj/05_utils_2.o -L ./lib -lft -lreadline\\n\\x1b[36;1;3;208m ----------------------------------------------\\x1b[0m\\n\\x1b[36;1;3;208m| tokenizer executable was created successfully!! |\\x1b[0m\\n\\x1b[36;1;3;208m----------------------------------------------\\x1b[0m\\n \\nmake: Leaving directory '/nfs/homes/gfantoni/programing/42/minishell_folder/minishell/qa/unit_test/redirect'\\n\", stderr='')"
      ]
     },
     "execution_count": 18,
     "metadata": {},
     "output_type": "execute_result"
    }
   ],
   "source": [
    "subprocess.run(f\"make -C {name}\", stdout=subprocess.PIPE, stderr=subprocess.PIPE, text=True, shell=True)"
   ]
  },
  {
   "cell_type": "code",
   "execution_count": 19,
   "metadata": {},
   "outputs": [
    {
     "name": "stdout",
     "output_type": "stream",
     "text": [
      "0|3\n",
      "0|4\n"
     ]
    }
   ],
   "source": [
    "for input_data in input_data_list:\n",
    "\toutput = subprocess.run(f\"{valgrind} ./{name}/{name} {input_data}\", stdout=subprocess.PIPE, stderr=subprocess.PIPE, text=True, shell=True)\n",
    "\toutfile_content = output.stdout\n",
    "\tprint(outfile_content)\n"
   ]
  }
 ],
 "metadata": {
  "kernelspec": {
   "display_name": "Python 3",
   "language": "python",
   "name": "python3"
  },
  "language_info": {
   "codemirror_mode": {
    "name": "ipython",
    "version": 3
   },
   "file_extension": ".py",
   "mimetype": "text/x-python",
   "name": "python",
   "nbconvert_exporter": "python",
   "pygments_lexer": "ipython3",
   "version": "3.8.10"
  }
 },
 "nbformat": 4,
 "nbformat_minor": 2
}
